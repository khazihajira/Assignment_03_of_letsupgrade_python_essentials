{
  "nbformat": 4,
  "nbformat_minor": 0,
  "metadata": {
    "colab": {
      "name": "Assignment 03.ipynb",
      "provenance": [],
      "collapsed_sections": [],
      "authorship_tag": "ABX9TyOgTSX2Eojlwdh0NgMsztoa",
      "include_colab_link": true
    },
    "kernelspec": {
      "name": "python3",
      "display_name": "Python 3"
    }
  },
  "cells": [
    {
      "cell_type": "markdown",
      "metadata": {
        "id": "view-in-github",
        "colab_type": "text"
      },
      "source": [
        "<a href=\"https://colab.research.google.com/github/khazihajira/Assignment_03_of_letsupgrade_python_essentials/blob/master/Assignment_03.ipynb\" target=\"_parent\"><img src=\"https://colab.research.google.com/assets/colab-badge.svg\" alt=\"Open In Colab\"/></a>"
      ]
    },
    {
      "cell_type": "markdown",
      "metadata": {
        "id": "xULB9TFIH-Le",
        "colab_type": "text"
      },
      "source": [
        " \n",
        "#Program to find the sum of n numbers using while loop"
      ]
    },
    {
      "cell_type": "code",
      "metadata": {
        "id": "zVhN77vsInor",
        "colab_type": "code",
        "colab": {
          "base_uri": "https://localhost:8080/",
          "height": 309
        },
        "outputId": "795f7b1c-23e0-4b9b-a5ea-4b99fb8a8b13"
      },
      "source": [
        " \n",
        "print(\"Sum_Of_Natural_Numbers \\n\")\n",
        "natural_Number=int(input(\"Enter  a natural number: \\n\"))\n",
        "temp = natural_Number\n",
        "sum = 0\n",
        "condition = 0\n",
        " \n",
        "while (condition < natural_Number):\n",
        "    sum += natural_Number\n",
        "    natural_Number -= 1\n",
        "    print(natural_Number , \"-->\" , sum)\n",
        " \n",
        "print(f\"\\nSum of natural numbers for the number {temp} is found out to be : {sum}\")"
      ],
      "execution_count": null,
      "outputs": [
        {
          "output_type": "stream",
          "text": [
            "Sum_Of_Natural_Numbers \n",
            "\n",
            "Enter  a natural number: \n",
            "10\n",
            "9 --> 10\n",
            "8 --> 19\n",
            "7 --> 27\n",
            "6 --> 34\n",
            "5 --> 40\n",
            "4 --> 45\n",
            "3 --> 49\n",
            "2 --> 52\n",
            "1 --> 54\n",
            "0 --> 55\n",
            "\n",
            "Sum of natural numbers for the number 10 is found out to be : 55\n"
          ],
          "name": "stdout"
        }
      ]
    },
    {
      "cell_type": "markdown",
      "metadata": {
        "id": "zrl09515J7Qv",
        "colab_type": "text"
      },
      "source": [
        "#Program to find whether an integer is prime or not"
      ]
    },
    {
      "cell_type": "code",
      "metadata": {
        "id": "OLLXLVZyKqXg",
        "colab_type": "code",
        "colab": {
          "base_uri": "https://localhost:8080/",
          "height": 122
        },
        "outputId": "1055dffa-7a81-4d3f-e318-d192b0ec8602"
      },
      "source": [
        " \n",
        "print(\" Program to check weather,the number is Prime or Not ?? \\n\")\n",
        " \n",
        "number = int(input(\"Enter a number : \\n\"))\n",
        "temp = number\n",
        " \n",
        "if number > 1:\n",
        "    for i in range(2,number):\n",
        "        if(number % i) == 0:\n",
        "            var = number//i\n",
        "            print(f\"The entered number : {temp} , is not a prime number \\n\")\n",
        "            print(f\"As {i} times {var} is {temp}\")\n",
        "            break\n",
        " \n",
        "    else:\n",
        "        print(f\"Entered Number: {temp} is a prime number\")\n",
        " \n",
        "else:\n",
        "    print(f\"Entered Number: {temp} , is not a prime number\")"
      ],
      "execution_count": null,
      "outputs": [
        {
          "output_type": "stream",
          "text": [
            " Program to check weather,the number is Prime or Not ?? \n",
            "\n",
            "Enter a number : \n",
            "7\n",
            "Entered Number: 7 is a prime number\n"
          ],
          "name": "stdout"
        }
      ]
    },
    {
      "cell_type": "markdown",
      "metadata": {
        "id": "T_IgQ5TyK45w",
        "colab_type": "text"
      },
      "source": [
        "#Program to find the sum of n numbers using for loop"
      ]
    },
    {
      "cell_type": "code",
      "metadata": {
        "id": "BgYBZKynLDJ9",
        "colab_type": "code",
        "colab": {
          "base_uri": "https://localhost:8080/",
          "height": 204
        },
        "outputId": "a691280c-74b9-4b0e-8d23-a3c031b9ae24"
      },
      "source": [
        "Sum=0\n",
        "for each in range(1,11):\n",
        "    Sum=Sum+each\n",
        "    print (each,\"--->\",Sum)\n",
        "print (\"Sum of numbers is\",Sum)"
      ],
      "execution_count": null,
      "outputs": [
        {
          "output_type": "stream",
          "text": [
            "1 ---> 1\n",
            "2 ---> 3\n",
            "3 ---> 6\n",
            "4 ---> 10\n",
            "5 ---> 15\n",
            "6 ---> 21\n",
            "7 ---> 28\n",
            "8 ---> 36\n",
            "9 ---> 45\n",
            "10 ---> 55\n",
            "Sum of numbers is 55\n"
          ],
          "name": "stdout"
        }
      ]
    }
  ]
}